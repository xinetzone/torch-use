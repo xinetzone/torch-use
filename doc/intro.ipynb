{
 "cells": [
  {
   "cell_type": "markdown",
   "metadata": {},
   "source": [
    "# 项目简介\n",
    "\n",
    "提供与 PyTorch 相关的优质资源。\n",
    "\n",
    "## 环境配置\n",
    "\n",
    "推荐使用 [Anaconda3](https://xinetzone.github.io/sphinx-demo/start/anaconda3.html) 管理 Python 环境。\n",
    "\n",
    "本项目使用：\n",
    "\n",
    "- Python 版本："
   ]
  },
  {
   "cell_type": "code",
   "execution_count": 1,
   "metadata": {},
   "outputs": [
    {
     "name": "stdout",
     "output_type": "stream",
     "text": [
      "Python 3.10.4\n"
     ]
    }
   ],
   "source": [
    "!python --version"
   ]
  },
  {
   "cell_type": "markdown",
   "metadata": {},
   "source": [
    "- PyTorch 版本："
   ]
  },
  {
   "cell_type": "code",
   "execution_count": 2,
   "metadata": {},
   "outputs": [
    {
     "data": {
      "text/plain": [
       "'1.12.1'"
      ]
     },
     "execution_count": 2,
     "metadata": {},
     "output_type": "execute_result"
    }
   ],
   "source": [
    "import torch\n",
    "\n",
    "torch.__version__"
   ]
  },
  {
   "cell_type": "markdown",
   "metadata": {},
   "source": [
    "## 贡献\n",
    "\n",
    "为项目贡献文档，需要\n",
    "\n",
    "```shell\n",
    "pip install .[doc]\n",
    "```\n",
    "\n",
    "还需要安装 PyTorch：\n",
    "\n",
    "`````{tabs}\n",
    "````{group-tab} CPU\n",
    "\n",
    "```shell\n",
    "conda install pytorch torchvision torchaudio cpuonly -c pytorch\n",
    "```\n",
    "````\n",
    "````{group-tab} GPU\n",
    "\n",
    "```shell\n",
    "conda install pytorch torchvision torchaudio cudatoolkit=11.3 -c pytorch\n",
    "```\n",
    "````\n",
    "`````\n",
    "\n",
    "文档生成：\n",
    "\n",
    "```shell\n",
    "invoke doc\n",
    "```\n",
    "\n",
    "```{seealso}\n",
    "关于 Jupyter 内核配置的详细说明见：[项目启动](https://xinetzone.github.io/sphinx-demo/start/index.html)。\n",
    "```"
   ]
  },
  {
   "cell_type": "markdown",
   "metadata": {},
   "source": [
    "其他内容，不断补充..."
   ]
  }
 ],
 "metadata": {
  "kernelspec": {
   "display_name": "Python 3.10.4 ('tvmx': conda)",
   "language": "python",
   "name": "python3"
  },
  "language_info": {
   "codemirror_mode": {
    "name": "ipython",
    "version": 3
   },
   "file_extension": ".py",
   "mimetype": "text/x-python",
   "name": "python",
   "nbconvert_exporter": "python",
   "pygments_lexer": "ipython3",
   "version": "3.10.4"
  },
  "orig_nbformat": 4,
  "vscode": {
   "interpreter": {
    "hash": "e579259ee6098e2b9319de590d145b4b096774fe457bdf04260e3ba5c171e887"
   }
  }
 },
 "nbformat": 4,
 "nbformat_minor": 2
}
